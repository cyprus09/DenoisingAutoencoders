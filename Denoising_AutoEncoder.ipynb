{
  "nbformat": 4,
  "nbformat_minor": 0,
  "metadata": {
    "colab": {
      "name": "Denoising AutoEncoder",
      "provenance": [],
      "include_colab_link": true
    },
    "kernelspec": {
      "name": "python3",
      "display_name": "Python 3"
    },
    "accelerator": "GPU"
  },
  "cells": [
    {
      "cell_type": "markdown",
      "metadata": {
        "id": "view-in-github",
        "colab_type": "text"
      },
      "source": [
        "<a href=\"https://colab.research.google.com/github/cyprus09/DenoisingAutoencoders/blob/main/Denoising_AutoEncoder.ipynb\" target=\"_parent\"><img src=\"https://colab.research.google.com/assets/colab-badge.svg\" alt=\"Open In Colab\"/></a>"
      ]
    },
    {
      "cell_type": "code",
      "metadata": {
        "id": "E7JACQ4mvohm"
      },
      "source": [
        "import numpy as np\n",
        "import matplotlib.pyplot as plt\n",
        "from tensorflow.keras.layers import Conv2D, Input, Dense, Reshape, Conv2DTranspose,\\\n",
        "   Activation, BatchNormalization, ReLU, Concatenate\n",
        "from tensorflow.keras.models import Model\n",
        "from tensorflow.keras.callbacks import ModelCheckpoint\n",
        "from tensorflow.keras.datasets import  cifar10"
      ],
      "execution_count": null,
      "outputs": []
    },
    {
      "cell_type": "code",
      "metadata": {
        "id": "RVxLqT1I6BAy",
        "colab": {
          "base_uri": "https://localhost:8080/",
          "height": 51
        },
        "outputId": "b13187e7-3ac0-485d-f5dc-fcaafdefc9ee"
      },
      "source": [
        "(train_data_clean, _), (test_data_clean, _) = cifar10.load_data( )"
      ],
      "execution_count": null,
      "outputs": [
        {
          "output_type": "stream",
          "text": [
            "Downloading data from https://www.cs.toronto.edu/~kriz/cifar-10-python.tar.gz\n",
            "170500096/170498071 [==============================] - 11s 0us/step\n"
          ],
          "name": "stdout"
        }
      ]
    },
    {
      "cell_type": "code",
      "metadata": {
        "id": "kpsbVtx66NAd",
        "colab": {
          "base_uri": "https://localhost:8080/",
          "height": 34
        },
        "outputId": "507c4126-f84b-4c50-9535-45b7f835464a"
      },
      "source": [
        "#convert data to floats\n",
        "\n",
        "train_data_clean = train_data_clean.astype('float32') / 255.\n",
        "test_data_clean = test_data_clean.astype('float32') / 255.\n",
        "len(train_data_clean)\n",
        "len(test_data_clean)"
      ],
      "execution_count": null,
      "outputs": [
        {
          "output_type": "execute_result",
          "data": {
            "text/plain": [
              "10000"
            ]
          },
          "metadata": {
            "tags": []
          },
          "execution_count": 5
        }
      ]
    },
    {
      "cell_type": "code",
      "metadata": {
        "id": "Xk1hUUBY6MGl"
      },
      "source": [
        "# Adding noise\n",
        "\n",
        "def add_noise_and_clip_data(data):\n",
        "   noise = np.random.normal(loc=0.0, scale=0.1, size=data.shape)\n",
        "   data = data + noise\n",
        "   data = np.clip(data, 0., 1.)\n",
        "   return data\n",
        "train_data_noisy = add_noise_and_clip_data(train_data_clean)\n",
        "test_data_noisy = add_noise_and_clip_data(test_data_clean)"
      ],
      "execution_count": null,
      "outputs": []
    },
    {
      "cell_type": "code",
      "metadata": {
        "id": "PeJCXAl2MTef",
        "colab": {
          "base_uri": "https://localhost:8080/",
          "height": 34
        },
        "outputId": "3be55e1c-983a-44ae-8884-cdda71927da9"
      },
      "source": [
        "len(train_data_noisy)\n",
        "len(test_data_noisy)"
      ],
      "execution_count": null,
      "outputs": [
        {
          "output_type": "execute_result",
          "data": {
            "text/plain": [
              "10000"
            ]
          },
          "metadata": {
            "tags": []
          },
          "execution_count": 7
        }
      ]
    },
    {
      "cell_type": "code",
      "metadata": {
        "id": "pgGYKipW6xbl",
        "colab": {
          "base_uri": "https://localhost:8080/",
          "height": 216
        },
        "outputId": "564a6f17-0d4e-464f-e064-29ec41d1bad4"
      },
      "source": [
        "idx = 4\n",
        "plt.subplot(1,2,1)\n",
        "plt.imshow(train_data_clean[idx])\n",
        "plt.title('Original image')\n",
        "plt.subplot(1,2,2)\n",
        "plt.imshow(train_data_noisy[idx])\n",
        "plt.title('Image with noise')\n",
        "plt.show()"
      ],
      "execution_count": null,
      "outputs": [
        {
          "output_type": "display_data",
          "data": {
            "image/png": "[encoded data removed]",
            "text/plain": [
              "<Figure size 432x288 with 2 Axes>"
            ]
          },
          "metadata": {
            "tags": [],
            "needs_background": "light"
          }
        }
      ]
    },
    {
      "cell_type": "code",
      "metadata": {
        "id": "9a6Kj5m97EdV"
      },
      "source": [
        "#Defining the architecture\n",
        "\n",
        "def conv_block(x, filters, kernel_size, strides=2):\n",
        "   x = Conv2D(filters=filters,\n",
        "              kernel_size=kernel_size,\n",
        "              strides=strides,\n",
        "              padding='same')(x)\n",
        "   x = BatchNormalization()(x)\n",
        "   x = ReLU()(x)\n",
        "   return x"
      ],
      "execution_count": null,
      "outputs": []
    },
    {
      "cell_type": "code",
      "metadata": {
        "id": "Q3e_EOig7cwI"
      },
      "source": [
        "def deconv_block(x, filters, kernel_size):\n",
        "   x = Conv2DTranspose(filters=filters,\n",
        "                       kernel_size=kernel_size,\n",
        "                       strides=2,\n",
        "                       padding='same')(x)\n",
        "   x = BatchNormalization()(x)\n",
        "   x = ReLU()(x)\n",
        "   return x"
      ],
      "execution_count": null,
      "outputs": []
    },
    {
      "cell_type": "code",
      "metadata": {
        "id": "ScrlevAr7zsA"
      },
      "source": [
        "def denoising_autoencoder():\n",
        "   dae_inputs = Input(shape=(32, 32, 3), name='dae_input')\n",
        "   conv_block1 = conv_block(dae_inputs, 32, 3)\n",
        "   conv_block2 = conv_block(conv_block1, 64, 3)\n",
        "   conv_block3 = conv_block(conv_block2, 128, 3)\n",
        "   conv_block4 = conv_block(conv_block3, 256, 3)\n",
        "   conv_block5 = conv_block(conv_block4, 256, 3, 1)\n",
        "\n",
        "   deconv_block1 = deconv_block(conv_block5, 256, 3)\n",
        "   merge1 = Concatenate()([deconv_block1, conv_block3])\n",
        "   deconv_block2 = deconv_block(merge1, 128, 3)\n",
        "   merge2 = Concatenate()([deconv_block2, conv_block2])\n",
        "   deconv_block3 = deconv_block(merge2, 64, 3)\n",
        "   merge3 = Concatenate()([deconv_block3, conv_block1])\n",
        "   deconv_block4 = deconv_block(merge3, 32, 3)\n",
        "\n",
        "   final_deconv = Conv2DTranspose(filters=3,\n",
        "                       kernel_size=3,\n",
        "                       padding='same')(deconv_block4)\n",
        "\n",
        "   dae_outputs = Activation('sigmoid', name='dae_output')(final_deconv)\n",
        "\n",
        "   return Model(dae_inputs, dae_outputs, name='dae')\n"
      ],
      "execution_count": null,
      "outputs": []
    },
    {
      "cell_type": "code",
      "metadata": {
        "id": "5RB5RHhaS19W",
        "colab": {
          "base_uri": "https://localhost:8080/",
          "height": 34
        },
        "outputId": "ce93aa68-111b-4781-b3b7-19e9ea921773"
      },
      "source": [
        "import keras.backend as K\n",
        "\n",
        "# Create a loss function that adds the MSE loss to the mean of all squared activations of a specific layer\n",
        "def loss(y_true,y_pred):\n",
        "    return K.mean(K.square(y_pred - y_true) + K.mean(y_pred), axis=-1)\n",
        "\n",
        "    return loss"
      ],
      "execution_count": null,
      "outputs": [
        {
          "output_type": "stream",
          "text": [
            "Using TensorFlow backend.\n"
          ],
          "name": "stderr"
        }
      ]
    },
    {
      "cell_type": "code",
      "metadata": {
        "id": "oe_SXyxIjomM",
        "colab": {
          "base_uri": "https://localhost:8080/",
          "height": 1000
        },
        "outputId": "27369a01-d96c-4d90-92e6-235150515e69"
      },
      "source": [
        "# Compiling the model\n",
        "\n",
        "dae = denoising_autoencoder()\n",
        "dae.compile(loss='mse', optimizer='adam', metrics=['accuracy'])\n",
        "\n",
        "checkpoint = ModelCheckpoint('best_model.h5', verbose=1, save_best_only=True, save_weights_only=True)\n",
        "\n",
        "history = dae.fit(train_data_noisy[:9000], train_data_clean[:9000], validation_data = (test_data_noisy[9000:], test_data_clean[9000:]),\n",
        "\n",
        "       epochs=100,\n",
        "       batch_size=128,\n",
        "       callbacks=[checkpoint])"
      ],
      "execution_count": null,
      "outputs": [
        {
          "output_type": "stream",
          "text": [
            "Epoch 1/100\n",
            "71/71 [==============================] - ETA: 0s - loss: 0.0107 - accuracy: 0.5858\n",
            "Epoch 00001: val_loss improved from inf to 0.04593, saving model to best_model.h5\n",
            "71/71 [==============================] - 5s 75ms/step - loss: 0.0107 - accuracy: 0.5858 - val_loss: 0.0459 - val_accuracy: 0.5664\n",
            "Epoch 2/100\n",
            "70/71 [============================>.] - ETA: 0s - loss: 0.0038 - accuracy: 0.6976\n",
            "Epoch 00002: val_loss improved from 0.04593 to 0.03526, saving model to best_model.h5\n",
            "71/71 [==============================] - 4s 62ms/step - loss: 0.0038 - accuracy: 0.6977 - val_loss: 0.0353 - val_accuracy: 0.5923\n",
            "Epoch 3/100\n",
            "70/71 [============================>.] - ETA: 0s - loss: 0.0031 - accuracy: 0.7236\n",
            "Epoch 00003: val_loss improved from 0.03526 to 0.02418, saving model to best_model.h5\n",
            "71/71 [==============================] - 4s 62ms/step - loss: 0.0031 - accuracy: 0.7236 - val_loss: 0.0242 - val_accuracy: 0.6258\n",
            "Epoch 4/100\n",
            "70/71 [============================>.] - ETA: 0s - loss: 0.0028 - accuracy: 0.7363\n",
            "Epoch 00004: val_loss improved from 0.02418 to 0.01358, saving model to best_model.h5\n",
            "71/71 [==============================] - 4s 62ms/step - loss: 0.0028 - accuracy: 0.7363 - val_loss: 0.0136 - val_accuracy: 0.6760\n",
            "Epoch 5/100\n",
            "70/71 [============================>.] - ETA: 0s - loss: 0.0029 - accuracy: 0.7420\n",
            "Epoch 00005: val_loss improved from 0.01358 to 0.00764, saving model to best_model.h5\n",
            "71/71 [==============================] - 4s 62ms/step - loss: 0.0029 - accuracy: 0.7418 - val_loss: 0.0076 - val_accuracy: 0.7091\n",
            "Epoch 6/100\n",
            "70/71 [============================>.] - ETA: 0s - loss: 0.0026 - accuracy: 0.7509\n",
            "Epoch 00006: val_loss improved from 0.00764 to 0.00399, saving model to best_model.h5\n",
            "71/71 [==============================] - 4s 62ms/step - loss: 0.0026 - accuracy: 0.7509 - val_loss: 0.0040 - val_accuracy: 0.7403\n",
            "Epoch 7/100\n",
            "70/71 [============================>.] - ETA: 0s - loss: 0.0026 - accuracy: 0.7567\n",
            "Epoch 00007: val_loss improved from 0.00399 to 0.00261, saving model to best_model.h5\n",
            "71/71 [==============================] - 4s 62ms/step - loss: 0.0026 - accuracy: 0.7568 - val_loss: 0.0026 - val_accuracy: 0.7487\n",
            "Epoch 8/100\n",
            "70/71 [============================>.] - ETA: 0s - loss: 0.0024 - accuracy: 0.7606\n",
            "Epoch 00008: val_loss improved from 0.00261 to 0.00239, saving model to best_model.h5\n",
            "71/71 [==============================] - 4s 62ms/step - loss: 0.0024 - accuracy: 0.7605 - val_loss: 0.0024 - val_accuracy: 0.7523\n",
            "Epoch 9/100\n",
            "70/71 [============================>.] - ETA: 0s - loss: 0.0023 - accuracy: 0.7611\n",
            "Epoch 00009: val_loss did not improve from 0.00239\n",
            "71/71 [==============================] - 4s 61ms/step - loss: 0.0023 - accuracy: 0.7611 - val_loss: 0.0025 - val_accuracy: 0.7477\n",
            "Epoch 10/100\n",
            "70/71 [============================>.] - ETA: 0s - loss: 0.0024 - accuracy: 0.7628\n",
            "Epoch 00010: val_loss improved from 0.00239 to 0.00224, saving model to best_model.h5\n",
            "71/71 [==============================] - 4s 63ms/step - loss: 0.0024 - accuracy: 0.7626 - val_loss: 0.0022 - val_accuracy: 0.7658\n",
            "Epoch 11/100\n",
            "70/71 [============================>.] - ETA: 0s - loss: 0.0023 - accuracy: 0.7666\n",
            "Epoch 00011: val_loss improved from 0.00224 to 0.00217, saving model to best_model.h5\n",
            "71/71 [==============================] - 4s 63ms/step - loss: 0.0023 - accuracy: 0.7665 - val_loss: 0.0022 - val_accuracy: 0.7770\n",
            "Epoch 12/100\n",
            "70/71 [============================>.] - ETA: 0s - loss: 0.0022 - accuracy: 0.7699\n",
            "Epoch 00012: val_loss did not improve from 0.00217\n",
            "71/71 [==============================] - 4s 61ms/step - loss: 0.0022 - accuracy: 0.7699 - val_loss: 0.0024 - val_accuracy: 0.7756\n",
            "Epoch 13/100\n",
            "70/71 [============================>.] - ETA: 0s - loss: 0.0022 - accuracy: 0.7698\n",
            "Epoch 00013: val_loss did not improve from 0.00217\n",
            "71/71 [==============================] - 4s 62ms/step - loss: 0.0022 - accuracy: 0.7698 - val_loss: 0.0022 - val_accuracy: 0.7680\n",
            "Epoch 14/100\n",
            "70/71 [============================>.] - ETA: 0s - loss: 0.0022 - accuracy: 0.7725\n",
            "Epoch 00014: val_loss improved from 0.00217 to 0.00209, saving model to best_model.h5\n",
            "71/71 [==============================] - 4s 63ms/step - loss: 0.0022 - accuracy: 0.7724 - val_loss: 0.0021 - val_accuracy: 0.7706\n",
            "Epoch 15/100\n",
            "70/71 [============================>.] - ETA: 0s - loss: 0.0023 - accuracy: 0.7727\n",
            "Epoch 00015: val_loss did not improve from 0.00209\n",
            "71/71 [==============================] - 4s 62ms/step - loss: 0.0023 - accuracy: 0.7729 - val_loss: 0.0029 - val_accuracy: 0.7466\n",
            "Epoch 16/100\n",
            "70/71 [============================>.] - ETA: 0s - loss: 0.0023 - accuracy: 0.7738\n",
            "Epoch 00016: val_loss did not improve from 0.00209\n",
            "71/71 [==============================] - 4s 62ms/step - loss: 0.0023 - accuracy: 0.7738 - val_loss: 0.0026 - val_accuracy: 0.7744\n",
            "Epoch 17/100\n",
            "70/71 [============================>.] - ETA: 0s - loss: 0.0021 - accuracy: 0.7748\n",
            "Epoch 00017: val_loss improved from 0.00209 to 0.00208, saving model to best_model.h5\n",
            "71/71 [==============================] - 4s 63ms/step - loss: 0.0021 - accuracy: 0.7748 - val_loss: 0.0021 - val_accuracy: 0.7737\n",
            "Epoch 18/100\n",
            "70/71 [============================>.] - ETA: 0s - loss: 0.0021 - accuracy: 0.7747\n",
            "Epoch 00018: val_loss improved from 0.00208 to 0.00202, saving model to best_model.h5\n",
            "71/71 [==============================] - 4s 63ms/step - loss: 0.0021 - accuracy: 0.7748 - val_loss: 0.0020 - val_accuracy: 0.7690\n",
            "Epoch 19/100\n",
            "70/71 [============================>.] - ETA: 0s - loss: 0.0021 - accuracy: 0.7768\n",
            "Epoch 00019: val_loss improved from 0.00202 to 0.00202, saving model to best_model.h5\n",
            "71/71 [==============================] - 4s 63ms/step - loss: 0.0021 - accuracy: 0.7769 - val_loss: 0.0020 - val_accuracy: 0.7859\n",
            "Epoch 20/100\n",
            "70/71 [============================>.] - ETA: 0s - loss: 0.0020 - accuracy: 0.7780\n",
            "Epoch 00020: val_loss improved from 0.00202 to 0.00196, saving model to best_model.h5\n",
            "71/71 [==============================] - 5s 63ms/step - loss: 0.0021 - accuracy: 0.7780 - val_loss: 0.0020 - val_accuracy: 0.7896\n",
            "Epoch 21/100\n",
            "70/71 [============================>.] - ETA: 0s - loss: 0.0021 - accuracy: 0.7791\n",
            "Epoch 00021: val_loss did not improve from 0.00196\n",
            "71/71 [==============================] - 4s 63ms/step - loss: 0.0021 - accuracy: 0.7790 - val_loss: 0.0031 - val_accuracy: 0.7713\n",
            "Epoch 22/100\n",
            "70/71 [============================>.] - ETA: 0s - loss: 0.0021 - accuracy: 0.7797\n",
            "Epoch 00022: val_loss did not improve from 0.00196\n",
            "71/71 [==============================] - 4s 62ms/step - loss: 0.0021 - accuracy: 0.7795 - val_loss: 0.0021 - val_accuracy: 0.7893\n",
            "Epoch 23/100\n",
            "70/71 [============================>.] - ETA: 0s - loss: 0.0021 - accuracy: 0.7808\n",
            "Epoch 00023: val_loss did not improve from 0.00196\n",
            "71/71 [==============================] - 4s 63ms/step - loss: 0.0021 - accuracy: 0.7808 - val_loss: 0.0022 - val_accuracy: 0.7816\n",
            "Epoch 24/100\n",
            "70/71 [============================>.] - ETA: 0s - loss: 0.0020 - accuracy: 0.7781\n",
            "Epoch 00024: val_loss did not improve from 0.00196\n",
            "71/71 [==============================] - 4s 62ms/step - loss: 0.0020 - accuracy: 0.7783 - val_loss: 0.0020 - val_accuracy: 0.7837\n",
            "Epoch 25/100\n",
            "70/71 [============================>.] - ETA: 0s - loss: 0.0020 - accuracy: 0.7810\n",
            "Epoch 00025: val_loss did not improve from 0.00196\n",
            "71/71 [==============================] - 4s 62ms/step - loss: 0.0020 - accuracy: 0.7809 - val_loss: 0.0020 - val_accuracy: 0.7886\n",
            "Epoch 26/100\n",
            "70/71 [============================>.] - ETA: 0s - loss: 0.0020 - accuracy: 0.7807\n",
            "Epoch 00026: val_loss improved from 0.00196 to 0.00191, saving model to best_model.h5\n",
            "71/71 [==============================] - 4s 63ms/step - loss: 0.0020 - accuracy: 0.7808 - val_loss: 0.0019 - val_accuracy: 0.7847\n",
            "Epoch 27/100\n",
            "70/71 [============================>.] - ETA: 0s - loss: 0.0020 - accuracy: 0.7855\n",
            "Epoch 00027: val_loss did not improve from 0.00191\n",
            "71/71 [==============================] - 4s 62ms/step - loss: 0.0020 - accuracy: 0.7853 - val_loss: 0.0020 - val_accuracy: 0.7864\n",
            "Epoch 28/100\n",
            "70/71 [============================>.] - ETA: 0s - loss: 0.0020 - accuracy: 0.7850\n",
            "Epoch 00028: val_loss did not improve from 0.00191\n",
            "71/71 [==============================] - 4s 62ms/step - loss: 0.0020 - accuracy: 0.7850 - val_loss: 0.0020 - val_accuracy: 0.7826\n",
            "Epoch 29/100\n",
            "70/71 [============================>.] - ETA: 0s - loss: 0.0020 - accuracy: 0.7834\n",
            "Epoch 00029: val_loss did not improve from 0.00191\n",
            "71/71 [==============================] - 4s 62ms/step - loss: 0.0020 - accuracy: 0.7832 - val_loss: 0.0019 - val_accuracy: 0.7549\n",
            "Epoch 30/100\n",
            "70/71 [============================>.] - ETA: 0s - loss: 0.0020 - accuracy: 0.7841\n",
            "Epoch 00030: val_loss did not improve from 0.00191\n",
            "71/71 [==============================] - 4s 62ms/step - loss: 0.0020 - accuracy: 0.7842 - val_loss: 0.0020 - val_accuracy: 0.7812\n",
            "Epoch 31/100\n",
            "70/71 [============================>.] - ETA: 0s - loss: 0.0019 - accuracy: 0.7871\n",
            "Epoch 00031: val_loss did not improve from 0.00191\n",
            "71/71 [==============================] - 4s 62ms/step - loss: 0.0019 - accuracy: 0.7869 - val_loss: 0.0020 - val_accuracy: 0.7617\n",
            "Epoch 32/100\n",
            "70/71 [============================>.] - ETA: 0s - loss: 0.0020 - accuracy: 0.7845\n",
            "Epoch 00032: val_loss did not improve from 0.00191\n",
            "71/71 [==============================] - 4s 62ms/step - loss: 0.0020 - accuracy: 0.7842 - val_loss: 0.0021 - val_accuracy: 0.7534\n",
            "Epoch 33/100\n",
            "70/71 [============================>.] - ETA: 0s - loss: 0.0020 - accuracy: 0.7845\n",
            "Epoch 00033: val_loss did not improve from 0.00191\n",
            "71/71 [==============================] - 4s 62ms/step - loss: 0.0020 - accuracy: 0.7845 - val_loss: 0.0021 - val_accuracy: 0.7772\n",
            "Epoch 34/100\n",
            "70/71 [============================>.] - ETA: 0s - loss: 0.0019 - accuracy: 0.7875\n",
            "Epoch 00034: val_loss did not improve from 0.00191\n",
            "71/71 [==============================] - 4s 62ms/step - loss: 0.0019 - accuracy: 0.7874 - val_loss: 0.0019 - val_accuracy: 0.7836\n",
            "Epoch 35/100\n",
            "70/71 [============================>.] - ETA: 0s - loss: 0.0018 - accuracy: 0.7901\n",
            "Epoch 00035: val_loss improved from 0.00191 to 0.00187, saving model to best_model.h5\n",
            "71/71 [==============================] - 4s 63ms/step - loss: 0.0018 - accuracy: 0.7900 - val_loss: 0.0019 - val_accuracy: 0.7938\n",
            "Epoch 36/100\n",
            "70/71 [============================>.] - ETA: 0s - loss: 0.0018 - accuracy: 0.7916\n",
            "Epoch 00036: val_loss did not improve from 0.00187\n",
            "71/71 [==============================] - 4s 62ms/step - loss: 0.0018 - accuracy: 0.7916 - val_loss: 0.0021 - val_accuracy: 0.7752\n",
            "Epoch 37/100\n",
            "70/71 [============================>.] - ETA: 0s - loss: 0.0018 - accuracy: 0.7905\n",
            "Epoch 00037: val_loss did not improve from 0.00187\n",
            "71/71 [==============================] - 4s 62ms/step - loss: 0.0018 - accuracy: 0.7902 - val_loss: 0.0019 - val_accuracy: 0.7833\n",
            "Epoch 38/100\n",
            "70/71 [============================>.] - ETA: 0s - loss: 0.0018 - accuracy: 0.7898\n",
            "Epoch 00038: val_loss did not improve from 0.00187\n",
            "71/71 [==============================] - 4s 62ms/step - loss: 0.0018 - accuracy: 0.7898 - val_loss: 0.0020 - val_accuracy: 0.7756\n",
            "Epoch 39/100\n",
            "70/71 [============================>.] - ETA: 0s - loss: 0.0018 - accuracy: 0.7906\n",
            "Epoch 00039: val_loss did not improve from 0.00187\n",
            "71/71 [==============================] - 4s 62ms/step - loss: 0.0018 - accuracy: 0.7906 - val_loss: 0.0019 - val_accuracy: 0.7832\n",
            "Epoch 40/100\n",
            "70/71 [============================>.] - ETA: 0s - loss: 0.0017 - accuracy: 0.7915\n",
            "Epoch 00040: val_loss did not improve from 0.00187\n",
            "71/71 [==============================] - 4s 62ms/step - loss: 0.0017 - accuracy: 0.7915 - val_loss: 0.0020 - val_accuracy: 0.7668\n",
            "Epoch 41/100\n",
            "70/71 [============================>.] - ETA: 0s - loss: 0.0017 - accuracy: 0.7915\n",
            "Epoch 00041: val_loss did not improve from 0.00187\n",
            "71/71 [==============================] - 4s 62ms/step - loss: 0.0017 - accuracy: 0.7917 - val_loss: 0.0020 - val_accuracy: 0.7803\n",
            "Epoch 42/100\n",
            "70/71 [============================>.] - ETA: 0s - loss: 0.0017 - accuracy: 0.7927\n",
            "Epoch 00042: val_loss did not improve from 0.00187\n",
            "71/71 [==============================] - 4s 62ms/step - loss: 0.0017 - accuracy: 0.7924 - val_loss: 0.0021 - val_accuracy: 0.7841\n",
            "Epoch 43/100\n",
            "70/71 [============================>.] - ETA: 0s - loss: 0.0017 - accuracy: 0.7943\n",
            "Epoch 00043: val_loss did not improve from 0.00187\n",
            "71/71 [==============================] - 4s 62ms/step - loss: 0.0017 - accuracy: 0.7943 - val_loss: 0.0021 - val_accuracy: 0.7580\n",
            "Epoch 44/100\n",
            "70/71 [============================>.] - ETA: 0s - loss: 0.0017 - accuracy: 0.7961\n",
            "Epoch 00044: val_loss did not improve from 0.00187\n",
            "71/71 [==============================] - 4s 62ms/step - loss: 0.0017 - accuracy: 0.7961 - val_loss: 0.0020 - val_accuracy: 0.7819\n",
            "Epoch 45/100\n",
            "70/71 [============================>.] - ETA: 0s - loss: 0.0017 - accuracy: 0.7962\n",
            "Epoch 00045: val_loss did not improve from 0.00187\n",
            "71/71 [==============================] - 4s 62ms/step - loss: 0.0017 - accuracy: 0.7963 - val_loss: 0.0019 - val_accuracy: 0.7864\n",
            "Epoch 46/100\n",
            "70/71 [============================>.] - ETA: 0s - loss: 0.0016 - accuracy: 0.7955\n",
            "Epoch 00046: val_loss did not improve from 0.00187\n",
            "71/71 [==============================] - 4s 62ms/step - loss: 0.0016 - accuracy: 0.7956 - val_loss: 0.0019 - val_accuracy: 0.7839\n",
            "Epoch 47/100\n",
            "70/71 [============================>.] - ETA: 0s - loss: 0.0016 - accuracy: 0.7950\n",
            "Epoch 00047: val_loss did not improve from 0.00187\n",
            "71/71 [==============================] - 4s 62ms/step - loss: 0.0016 - accuracy: 0.7948 - val_loss: 0.0021 - val_accuracy: 0.7599\n",
            "Epoch 48/100\n",
            "70/71 [============================>.] - ETA: 0s - loss: 0.0017 - accuracy: 0.7954\n",
            "Epoch 00048: val_loss did not improve from 0.00187\n",
            "71/71 [==============================] - 4s 62ms/step - loss: 0.0017 - accuracy: 0.7954 - val_loss: 0.0020 - val_accuracy: 0.7794\n",
            "Epoch 49/100\n",
            "70/71 [============================>.] - ETA: 0s - loss: 0.0017 - accuracy: 0.7955\n",
            "Epoch 00049: val_loss did not improve from 0.00187\n",
            "71/71 [==============================] - 4s 62ms/step - loss: 0.0017 - accuracy: 0.7955 - val_loss: 0.0020 - val_accuracy: 0.7891\n",
            "Epoch 50/100\n",
            "70/71 [============================>.] - ETA: 0s - loss: 0.0016 - accuracy: 0.7971\n",
            "Epoch 00050: val_loss did not improve from 0.00187\n",
            "71/71 [==============================] - 4s 62ms/step - loss: 0.0016 - accuracy: 0.7968 - val_loss: 0.0020 - val_accuracy: 0.7939\n",
            "Epoch 51/100\n",
            "70/71 [============================>.] - ETA: 0s - loss: 0.0016 - accuracy: 0.7972\n",
            "Epoch 00051: val_loss did not improve from 0.00187\n",
            "71/71 [==============================] - 4s 62ms/step - loss: 0.0016 - accuracy: 0.7973 - val_loss: 0.0020 - val_accuracy: 0.7644\n",
            "Epoch 52/100\n",
            "70/71 [============================>.] - ETA: 0s - loss: 0.0016 - accuracy: 0.7995\n",
            "Epoch 00052: val_loss did not improve from 0.00187\n",
            "71/71 [==============================] - 4s 62ms/step - loss: 0.0016 - accuracy: 0.7994 - val_loss: 0.0021 - val_accuracy: 0.7858\n",
            "Epoch 53/100\n",
            "70/71 [============================>.] - ETA: 0s - loss: 0.0017 - accuracy: 0.7996\n",
            "Epoch 00053: val_loss did not improve from 0.00187\n",
            "71/71 [==============================] - 4s 62ms/step - loss: 0.0017 - accuracy: 0.7996 - val_loss: 0.0021 - val_accuracy: 0.7869\n",
            "Epoch 54/100\n",
            "70/71 [============================>.] - ETA: 0s - loss: 0.0016 - accuracy: 0.7999\n",
            "Epoch 00054: val_loss did not improve from 0.00187\n",
            "71/71 [==============================] - 4s 62ms/step - loss: 0.0016 - accuracy: 0.7999 - val_loss: 0.0020 - val_accuracy: 0.7788\n",
            "Epoch 55/100\n",
            "70/71 [============================>.] - ETA: 0s - loss: 0.0015 - accuracy: 0.8008\n",
            "Epoch 00055: val_loss did not improve from 0.00187\n",
            "71/71 [==============================] - 4s 62ms/step - loss: 0.0015 - accuracy: 0.8009 - val_loss: 0.0020 - val_accuracy: 0.7857\n",
            "Epoch 56/100\n",
            "70/71 [============================>.] - ETA: 0s - loss: 0.0015 - accuracy: 0.7989\n",
            "Epoch 00056: val_loss did not improve from 0.00187\n",
            "71/71 [==============================] - 4s 62ms/step - loss: 0.0015 - accuracy: 0.7988 - val_loss: 0.0021 - val_accuracy: 0.7905\n",
            "Epoch 57/100\n",
            "70/71 [============================>.] - ETA: 0s - loss: 0.0015 - accuracy: 0.8002\n",
            "Epoch 00057: val_loss did not improve from 0.00187\n",
            "71/71 [==============================] - 4s 62ms/step - loss: 0.0015 - accuracy: 0.8001 - val_loss: 0.0021 - val_accuracy: 0.7870\n",
            "Epoch 58/100\n",
            "70/71 [============================>.] - ETA: 0s - loss: 0.0015 - accuracy: 0.8016\n",
            "Epoch 00058: val_loss did not improve from 0.00187\n",
            "71/71 [==============================] - 4s 62ms/step - loss: 0.0015 - accuracy: 0.8014 - val_loss: 0.0022 - val_accuracy: 0.7790\n",
            "Epoch 59/100\n",
            "70/71 [============================>.] - ETA: 0s - loss: 0.0016 - accuracy: 0.7999\n",
            "Epoch 00059: val_loss did not improve from 0.00187\n",
            "71/71 [==============================] - 4s 62ms/step - loss: 0.0016 - accuracy: 0.7998 - val_loss: 0.0022 - val_accuracy: 0.7770\n",
            "Epoch 60/100\n",
            "70/71 [============================>.] - ETA: 0s - loss: 0.0015 - accuracy: 0.7999\n",
            "Epoch 00060: val_loss did not improve from 0.00187\n",
            "71/71 [==============================] - 4s 62ms/step - loss: 0.0015 - accuracy: 0.7999 - val_loss: 0.0021 - val_accuracy: 0.7853\n",
            "Epoch 61/100\n",
            "70/71 [============================>.] - ETA: 0s - loss: 0.0015 - accuracy: 0.8027\n",
            "Epoch 00061: val_loss did not improve from 0.00187\n",
            "71/71 [==============================] - 4s 61ms/step - loss: 0.0015 - accuracy: 0.8025 - val_loss: 0.0020 - val_accuracy: 0.7876\n",
            "Epoch 62/100\n",
            "70/71 [============================>.] - ETA: 0s - loss: 0.0015 - accuracy: 0.8018\n",
            "Epoch 00062: val_loss did not improve from 0.00187\n",
            "71/71 [==============================] - 4s 62ms/step - loss: 0.0015 - accuracy: 0.8018 - val_loss: 0.0023 - val_accuracy: 0.7678\n",
            "Epoch 63/100\n",
            "70/71 [============================>.] - ETA: 0s - loss: 0.0015 - accuracy: 0.8023\n",
            "Epoch 00063: val_loss did not improve from 0.00187\n",
            "71/71 [==============================] - 4s 62ms/step - loss: 0.0015 - accuracy: 0.8023 - val_loss: 0.0020 - val_accuracy: 0.7791\n",
            "Epoch 64/100\n",
            "70/71 [============================>.] - ETA: 0s - loss: 0.0014 - accuracy: 0.8035\n",
            "Epoch 00064: val_loss did not improve from 0.00187\n",
            "71/71 [==============================] - 4s 62ms/step - loss: 0.0014 - accuracy: 0.8034 - val_loss: 0.0021 - val_accuracy: 0.7755\n",
            "Epoch 65/100\n",
            "70/71 [============================>.] - ETA: 0s - loss: 0.0014 - accuracy: 0.8019\n",
            "Epoch 00065: val_loss did not improve from 0.00187\n",
            "71/71 [==============================] - 4s 62ms/step - loss: 0.0014 - accuracy: 0.8019 - val_loss: 0.0020 - val_accuracy: 0.7866\n",
            "Epoch 66/100\n",
            "70/71 [============================>.] - ETA: 0s - loss: 0.0014 - accuracy: 0.8015\n",
            "Epoch 00066: val_loss did not improve from 0.00187\n",
            "71/71 [==============================] - 4s 62ms/step - loss: 0.0014 - accuracy: 0.8013 - val_loss: 0.0021 - val_accuracy: 0.7877\n",
            "Epoch 67/100\n",
            "70/71 [============================>.] - ETA: 0s - loss: 0.0014 - accuracy: 0.8050\n",
            "Epoch 00067: val_loss did not improve from 0.00187\n",
            "71/71 [==============================] - 4s 61ms/step - loss: 0.0014 - accuracy: 0.8050 - val_loss: 0.0020 - val_accuracy: 0.7889\n",
            "Epoch 68/100\n",
            "70/71 [============================>.] - ETA: 0s - loss: 0.0014 - accuracy: 0.8056\n",
            "Epoch 00068: val_loss did not improve from 0.00187\n",
            "71/71 [==============================] - 4s 62ms/step - loss: 0.0014 - accuracy: 0.8056 - val_loss: 0.0020 - val_accuracy: 0.7842\n",
            "Epoch 69/100\n",
            "70/71 [============================>.] - ETA: 0s - loss: 0.0014 - accuracy: 0.8026\n",
            "Epoch 00069: val_loss did not improve from 0.00187\n",
            "71/71 [==============================] - 4s 62ms/step - loss: 0.0014 - accuracy: 0.8026 - val_loss: 0.0022 - val_accuracy: 0.7712\n",
            "Epoch 70/100\n",
            "70/71 [============================>.] - ETA: 0s - loss: 0.0014 - accuracy: 0.8024\n",
            "Epoch 00070: val_loss did not improve from 0.00187\n",
            "71/71 [==============================] - 4s 62ms/step - loss: 0.0014 - accuracy: 0.8023 - val_loss: 0.0020 - val_accuracy: 0.7721\n",
            "Epoch 71/100\n",
            "70/71 [============================>.] - ETA: 0s - loss: 0.0014 - accuracy: 0.8038\n",
            "Epoch 00071: val_loss did not improve from 0.00187\n",
            "71/71 [==============================] - 4s 62ms/step - loss: 0.0014 - accuracy: 0.8037 - val_loss: 0.0021 - val_accuracy: 0.7674\n",
            "Epoch 72/100\n",
            "70/71 [============================>.] - ETA: 0s - loss: 0.0015 - accuracy: 0.8019\n",
            "Epoch 00072: val_loss did not improve from 0.00187\n",
            "71/71 [==============================] - 4s 62ms/step - loss: 0.0015 - accuracy: 0.8017 - val_loss: 0.0023 - val_accuracy: 0.7829\n",
            "Epoch 73/100\n",
            "70/71 [============================>.] - ETA: 0s - loss: 0.0014 - accuracy: 0.8015\n",
            "Epoch 00073: val_loss did not improve from 0.00187\n",
            "71/71 [==============================] - 4s 62ms/step - loss: 0.0014 - accuracy: 0.8014 - val_loss: 0.0020 - val_accuracy: 0.7918\n",
            "Epoch 74/100\n",
            "70/71 [============================>.] - ETA: 0s - loss: 0.0014 - accuracy: 0.8038\n",
            "Epoch 00074: val_loss did not improve from 0.00187\n",
            "71/71 [==============================] - 4s 62ms/step - loss: 0.0014 - accuracy: 0.8038 - val_loss: 0.0021 - val_accuracy: 0.7783\n",
            "Epoch 75/100\n",
            "70/71 [============================>.] - ETA: 0s - loss: 0.0014 - accuracy: 0.8041\n",
            "Epoch 00075: val_loss did not improve from 0.00187\n",
            "71/71 [==============================] - 4s 62ms/step - loss: 0.0014 - accuracy: 0.8040 - val_loss: 0.0021 - val_accuracy: 0.7877\n",
            "Epoch 76/100\n",
            "70/71 [============================>.] - ETA: 0s - loss: 0.0013 - accuracy: 0.8066\n",
            "Epoch 00076: val_loss did not improve from 0.00187\n",
            "71/71 [==============================] - 4s 62ms/step - loss: 0.0013 - accuracy: 0.8067 - val_loss: 0.0020 - val_accuracy: 0.7881\n",
            "Epoch 77/100\n",
            "70/71 [============================>.] - ETA: 0s - loss: 0.0014 - accuracy: 0.8073\n",
            "Epoch 00077: val_loss did not improve from 0.00187\n",
            "71/71 [==============================] - 4s 62ms/step - loss: 0.0014 - accuracy: 0.8073 - val_loss: 0.0021 - val_accuracy: 0.7722\n",
            "Epoch 78/100\n",
            "70/71 [============================>.] - ETA: 0s - loss: 0.0013 - accuracy: 0.8090\n",
            "Epoch 00078: val_loss did not improve from 0.00187\n",
            "71/71 [==============================] - 4s 62ms/step - loss: 0.0013 - accuracy: 0.8089 - val_loss: 0.0021 - val_accuracy: 0.7845\n",
            "Epoch 79/100\n",
            "70/71 [============================>.] - ETA: 0s - loss: 0.0014 - accuracy: 0.8060\n",
            "Epoch 00079: val_loss did not improve from 0.00187\n",
            "71/71 [==============================] - 4s 62ms/step - loss: 0.0014 - accuracy: 0.8057 - val_loss: 0.0023 - val_accuracy: 0.7831\n",
            "Epoch 80/100\n",
            "70/71 [============================>.] - ETA: 0s - loss: 0.0013 - accuracy: 0.8090\n",
            "Epoch 00080: val_loss did not improve from 0.00187\n",
            "71/71 [==============================] - 4s 62ms/step - loss: 0.0013 - accuracy: 0.8087 - val_loss: 0.0020 - val_accuracy: 0.7865\n",
            "Epoch 81/100\n",
            "70/71 [============================>.] - ETA: 0s - loss: 0.0013 - accuracy: 0.8082\n",
            "Epoch 00081: val_loss did not improve from 0.00187\n",
            "71/71 [==============================] - 4s 62ms/step - loss: 0.0013 - accuracy: 0.8079 - val_loss: 0.0021 - val_accuracy: 0.7908\n",
            "Epoch 82/100\n",
            "70/71 [============================>.] - ETA: 0s - loss: 0.0013 - accuracy: 0.8079\n",
            "Epoch 00082: val_loss did not improve from 0.00187\n",
            "71/71 [==============================] - 4s 62ms/step - loss: 0.0013 - accuracy: 0.8077 - val_loss: 0.0021 - val_accuracy: 0.7718\n",
            "Epoch 83/100\n",
            "70/71 [============================>.] - ETA: 0s - loss: 0.0013 - accuracy: 0.8084\n",
            "Epoch 00083: val_loss did not improve from 0.00187\n",
            "71/71 [==============================] - 4s 62ms/step - loss: 0.0013 - accuracy: 0.8085 - val_loss: 0.0020 - val_accuracy: 0.7869\n",
            "Epoch 84/100\n",
            "70/71 [============================>.] - ETA: 0s - loss: 0.0013 - accuracy: 0.8089\n",
            "Epoch 00084: val_loss did not improve from 0.00187\n",
            "71/71 [==============================] - 4s 62ms/step - loss: 0.0013 - accuracy: 0.8088 - val_loss: 0.0020 - val_accuracy: 0.7830\n",
            "Epoch 85/100\n",
            "70/71 [============================>.] - ETA: 0s - loss: 0.0013 - accuracy: 0.8097\n",
            "Epoch 00085: val_loss did not improve from 0.00187\n",
            "71/71 [==============================] - 4s 62ms/step - loss: 0.0013 - accuracy: 0.8097 - val_loss: 0.0021 - val_accuracy: 0.7850\n",
            "Epoch 86/100\n",
            "70/71 [============================>.] - ETA: 0s - loss: 0.0013 - accuracy: 0.8045\n",
            "Epoch 00086: val_loss did not improve from 0.00187\n",
            "71/71 [==============================] - 4s 62ms/step - loss: 0.0013 - accuracy: 0.8045 - val_loss: 0.0021 - val_accuracy: 0.7818\n",
            "Epoch 87/100\n",
            "70/71 [============================>.] - ETA: 0s - loss: 0.0013 - accuracy: 0.8067\n",
            "Epoch 00087: val_loss did not improve from 0.00187\n",
            "71/71 [==============================] - 4s 62ms/step - loss: 0.0013 - accuracy: 0.8068 - val_loss: 0.0023 - val_accuracy: 0.7693\n",
            "Epoch 88/100\n",
            "70/71 [============================>.] - ETA: 0s - loss: 0.0013 - accuracy: 0.8067\n",
            "Epoch 00088: val_loss did not improve from 0.00187\n",
            "71/71 [==============================] - 4s 62ms/step - loss: 0.0013 - accuracy: 0.8066 - val_loss: 0.0021 - val_accuracy: 0.7822\n",
            "Epoch 89/100\n",
            "70/71 [============================>.] - ETA: 0s - loss: 0.0013 - accuracy: 0.8082\n",
            "Epoch 00089: val_loss did not improve from 0.00187\n",
            "71/71 [==============================] - 4s 62ms/step - loss: 0.0013 - accuracy: 0.8081 - val_loss: 0.0021 - val_accuracy: 0.7695\n",
            "Epoch 90/100\n",
            "70/71 [============================>.] - ETA: 0s - loss: 0.0012 - accuracy: 0.8090\n",
            "Epoch 00090: val_loss did not improve from 0.00187\n",
            "71/71 [==============================] - 4s 63ms/step - loss: 0.0012 - accuracy: 0.8089 - val_loss: 0.0021 - val_accuracy: 0.7851\n",
            "Epoch 91/100\n",
            "70/71 [============================>.] - ETA: 0s - loss: 0.0012 - accuracy: 0.8088\n",
            "Epoch 00091: val_loss did not improve from 0.00187\n",
            "71/71 [==============================] - 4s 62ms/step - loss: 0.0012 - accuracy: 0.8087 - val_loss: 0.0021 - val_accuracy: 0.7873\n",
            "Epoch 92/100\n",
            "70/71 [============================>.] - ETA: 0s - loss: 0.0012 - accuracy: 0.8096\n",
            "Epoch 00092: val_loss did not improve from 0.00187\n",
            "71/71 [==============================] - 4s 62ms/step - loss: 0.0012 - accuracy: 0.8097 - val_loss: 0.0021 - val_accuracy: 0.7860\n",
            "Epoch 93/100\n",
            "70/71 [============================>.] - ETA: 0s - loss: 0.0013 - accuracy: 0.8083\n",
            "Epoch 00093: val_loss did not improve from 0.00187\n",
            "71/71 [==============================] - 4s 62ms/step - loss: 0.0013 - accuracy: 0.8082 - val_loss: 0.0021 - val_accuracy: 0.7881\n",
            "Epoch 94/100\n",
            "70/71 [============================>.] - ETA: 0s - loss: 0.0013 - accuracy: 0.8095\n",
            "Epoch 00094: val_loss did not improve from 0.00187\n",
            "71/71 [==============================] - 4s 62ms/step - loss: 0.0013 - accuracy: 0.8095 - val_loss: 0.0023 - val_accuracy: 0.7670\n",
            "Epoch 95/100\n",
            "70/71 [============================>.] - ETA: 0s - loss: 0.0013 - accuracy: 0.8077\n",
            "Epoch 00095: val_loss did not improve from 0.00187\n",
            "71/71 [==============================] - 4s 62ms/step - loss: 0.0013 - accuracy: 0.8077 - val_loss: 0.0021 - val_accuracy: 0.7794\n",
            "Epoch 96/100\n",
            "70/71 [============================>.] - ETA: 0s - loss: 0.0013 - accuracy: 0.8095\n",
            "Epoch 00096: val_loss did not improve from 0.00187\n",
            "71/71 [==============================] - 4s 62ms/step - loss: 0.0013 - accuracy: 0.8096 - val_loss: 0.0023 - val_accuracy: 0.7741\n",
            "Epoch 97/100\n",
            "70/71 [============================>.] - ETA: 0s - loss: 0.0013 - accuracy: 0.8084\n",
            "Epoch 00097: val_loss did not improve from 0.00187\n",
            "71/71 [==============================] - 4s 62ms/step - loss: 0.0013 - accuracy: 0.8085 - val_loss: 0.0021 - val_accuracy: 0.7865\n",
            "Epoch 98/100\n",
            "70/71 [============================>.] - ETA: 0s - loss: 0.0012 - accuracy: 0.8120\n",
            "Epoch 00098: val_loss did not improve from 0.00187\n",
            "71/71 [==============================] - 4s 62ms/step - loss: 0.0012 - accuracy: 0.8118 - val_loss: 0.0021 - val_accuracy: 0.7824\n",
            "Epoch 99/100\n",
            "70/71 [============================>.] - ETA: 0s - loss: 0.0012 - accuracy: 0.8112\n",
            "Epoch 00099: val_loss did not improve from 0.00187\n",
            "71/71 [==============================] - 4s 62ms/step - loss: 0.0012 - accuracy: 0.8112 - val_loss: 0.0021 - val_accuracy: 0.7820\n",
            "Epoch 100/100\n",
            "70/71 [============================>.] - ETA: 0s - loss: 0.0012 - accuracy: 0.8101\n",
            "Epoch 00100: val_loss did not improve from 0.00187\n",
            "71/71 [==============================] - 4s 62ms/step - loss: 0.0012 - accuracy: 0.8100 - val_loss: 0.0021 - val_accuracy: 0.7738\n"
          ],
          "name": "stdout"
        }
      ]
    },
    {
      "cell_type": "code",
      "metadata": {
        "id": "Y8CNHM5N85BV",
        "colab": {
          "base_uri": "https://localhost:8080/",
          "height": 162
        },
        "outputId": "678e0635-d202-4c72-9cfe-379498e4b419"
      },
      "source": [
        "dae.load_weights('best_model.h5')\n",
        "test_data_denoised = dae.predict(test_data_noisy)\n",
        "idx = 4\n",
        "plt.subplot(1,3,1)\n",
        "plt.imshow(test_data_clean[idx])\n",
        "plt.title('original')\n",
        "plt.subplot(1,3,2)\n",
        "plt.imshow(test_data_noisy[idx])\n",
        "plt.title('noisy')\n",
        "plt.subplot(1,3,3)\n",
        "plt.imshow(test_data_denoised[idx])\n",
        "plt.title('denoised')\n",
        "plt.show()"
      ],
      "execution_count": null,
      "outputs": [
        {
          "output_type": "display_data",
          "data": {
            "image/png": "[encoded data removed]",
            "text/plain": [
              "<Figure size 432x288 with 3 Axes>"
            ]
          },
          "metadata": {
            "tags": [],
            "needs_background": "light"
          }
        }
      ]
    },
    {
      "cell_type": "code",
      "metadata": {
        "id": "yDJDsHDvBSbn",
        "colab": {
          "base_uri": "https://localhost:8080/",
          "height": 34
        },
        "outputId": "8f6b2238-5d49-402f-e48c-b13a8fbef901"
      },
      "source": [
        "#Evaluating the loss\n",
        "def mse(data_1, data_2):\n",
        "   return np.square(np.subtract(data_1, data_2)).mean()\n",
        "\n",
        "noisy_clean_mse = mse(test_data_clean, test_data_noisy)\n",
        "denoised_clean_mse = mse(test_data_denoised, test_data_clean)\n",
        "\n",
        "noisy_clean_mse, denoised_clean_mse"
      ],
      "execution_count": null,
      "outputs": [
        {
          "output_type": "execute_result",
          "data": {
            "text/plain": [
              "(0.009304169346874558, 0.0018928229)"
            ]
          },
          "metadata": {
            "tags": []
          },
          "execution_count": 15
        }
      ]
    },
    {
      "cell_type": "code",
      "metadata": {
        "id": "jzbwIy8d9gyH",
        "colab": {
          "base_uri": "https://localhost:8080/",
          "height": 51
        },
        "outputId": "d151ab88-93e5-4ccb-a531-46de4f416331"
      },
      "source": [
        "#Evaluating the model on test data\n",
        "results = dae.evaluate(test_data_noisy, test_data_clean, verbose=0)\n",
        "\n",
        "print(\"test loss, test accuracy :\")\n",
        "print(results)"
      ],
      "execution_count": null,
      "outputs": [
        {
          "output_type": "stream",
          "text": [
            "test loss, test accuracy :\n",
            "[0.0018928201170638204, 0.7989245057106018]\n"
          ],
          "name": "stdout"
        }
      ]
    },
    {
      "cell_type": "code",
      "metadata": {
        "id": "1CF_BgNjpxrq",
        "colab": {
          "base_uri": "https://localhost:8080/",
          "height": 180
        },
        "outputId": "7f63b1b2-fa34-43f2-cd7b-456fbcde56ab"
      },
      "source": [
        "plt.subplot(211)\n",
        "plt.title('Loss')\n",
        "plt.plot(history.history['loss'], label='train')\n",
        "plt.plot(history.history['val_loss'], label='test')\n",
        "plt.legend()"
      ],
      "execution_count": null,
      "outputs": [
        {
          "output_type": "execute_result",
          "data": {
            "text/plain": [
              "<matplotlib.legend.Legend at 0x7f26fcd305f8>"
            ]
          },
          "metadata": {
            "tags": []
          },
          "execution_count": 19
        },
        {
          "output_type": "display_data",
          "data": {
            "image/png": "[encoded data removed]",
            "text/plain": [
              "<Figure size 432x288 with 1 Axes>"
            ]
          },
          "metadata": {
            "tags": [],
            "needs_background": "light"
          }
        }
      ]
    },
    {
      "cell_type": "code",
      "metadata": {
        "id": "A5Pw6ZRKwY3y"
      },
      "source": [],
      "execution_count": null,
      "outputs": []
    }
  ]
}